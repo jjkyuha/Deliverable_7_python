{
  "nbformat": 4,
  "nbformat_minor": 0,
  "metadata": {
    "colab": {
      "provenance": []
    },
    "kernelspec": {
      "name": "python3",
      "display_name": "Python 3"
    },
    "language_info": {
      "name": "python"
    }
  },
  "cells": [
    {
      "cell_type": "code",
      "execution_count": 7,
      "metadata": {
        "id": "lRHZWyrwOYVf",
        "colab": {
          "base_uri": "https://localhost:8080/"
        },
        "outputId": "fb222b1b-824e-40c4-a449-4f86c55f3c6c"
      },
      "outputs": [
        {
          "name": "stdout",
          "output_type": "stream",
          "text": [
            "Enter an integer value greater than 0: 4\n"
          ]
        }
      ],
      "source": [
        "# Asking to user enter an integer value greater than 0\n",
        "n = int(input(\"Enter an integer value greater than 0: \"))\n",
        "\n",
        "even_numbers = []\n",
        "odd_numbers = []\n",
        "fibonacci_numbers = [0,1]\n"
      ]
    },
    {
      "cell_type": "code",
      "source": [
        "# Check n value is greater than 0\n",
        "if n > 0:\n",
        "  for num in range(2,n+1):\n",
        "      fibonacci_numbers.append(fibonacci_numbers[num - 1] + fibonacci_numbers[num - 2])\n",
        "for number in range(n):\n",
        "  even_numbers.append(2*number)\n",
        "  odd_numbers.append(2*number+1)\n",
        "print(\"-\"*37)\n",
        "print(\"|{:^5}|{:^8}| {:^8}|{:^12}|\".format(\"\",\"Even\",\"Odd\",\"Fibonacci\"))\n",
        "print(\"-\"*37)\n",
        "for index in range(n):\n",
        "  print(\"|{:^5}|{:^8}|{:^8}|  {:^12}|\".format(index,even_numbers[index],odd_numbers[index],fibonacci_numbers[index]))\n",
        "  print(\"-\"*37)"
      ],
      "metadata": {
        "colab": {
          "base_uri": "https://localhost:8080/"
        },
        "id": "jcgpj8qwVAoc",
        "outputId": "a9276d58-0862-4abc-8d62-9ee4f61be6db"
      },
      "execution_count": 8,
      "outputs": [
        {
          "output_type": "stream",
          "name": "stdout",
          "text": [
            "-------------------------------------\n",
            "|     |  Even  |   Odd   | Fibonacci  |\n",
            "-------------------------------------\n",
            "|  0  |   0    |   1    |       0      |\n",
            "-------------------------------------\n",
            "|  1  |   2    |   3    |       1      |\n",
            "-------------------------------------\n",
            "|  2  |   4    |   5    |       1      |\n",
            "-------------------------------------\n",
            "|  3  |   6    |   7    |       2      |\n",
            "-------------------------------------\n"
          ]
        }
      ]
    }
  ]
}